{
 "cells": [
  {
   "cell_type": "markdown",
   "id": "0ae2ab3f",
   "metadata": {},
   "source": [
    "# Automobile Data - EDA & Logistic Regression - Werner Pretorius"
   ]
  },
  {
   "cell_type": "markdown",
   "id": "dcbbb5c7",
   "metadata": {},
   "source": [
    "# Getting Started: Importing CSV and Cleaning the DataFrame"
   ]
  },
  {
   "cell_type": "markdown",
   "id": "fbb2250d",
   "metadata": {},
   "source": [
    "#### Import Libraries"
   ]
  },
  {
   "cell_type": "code",
   "execution_count": 26,
   "id": "f2009c12",
   "metadata": {},
   "outputs": [],
   "source": [
    "import pandas as pd\n",
    "import numpy as np\n",
    "from matplotlib import pyplot as plt\n",
    "from sklearn.preprocessing import StandardScaler\n",
    "from sklearn.model_selection import train_test_split\n",
    "from sklearn.linear_model import LogisticRegression\n",
    "from sklearn.metrics import accuracy_score\n",
    "from sklearn.metrics import f1_score\n",
    "from sklearn.metrics import recall_score\n",
    "from sklearn.metrics import precision_score"
   ]
  },
  {
   "cell_type": "markdown",
   "id": "f908610e",
   "metadata": {},
   "source": [
    "#### Import CSV"
   ]
  },
  {
   "cell_type": "code",
   "execution_count": 27,
   "id": "7945b65e",
   "metadata": {},
   "outputs": [],
   "source": [
    "filename = \"auto-mpg.csv\"\n",
    "auto_data = pd.read_csv(filename)"
   ]
  },
  {
   "cell_type": "markdown",
   "id": "b4d94775",
   "metadata": {},
   "source": [
    "#### Since there is no index column, it might help to add one for possible calculations"
   ]
  },
  {
   "cell_type": "code",
   "execution_count": 28,
   "id": "e2f84a85",
   "metadata": {},
   "outputs": [],
   "source": [
    "auto_data[\"id\"] = list(range(1, len(auto_data.mpg)+1))"
   ]
  },
  {
   "cell_type": "markdown",
   "id": "3da208b8",
   "metadata": {},
   "source": [
    "#### View Column data types"
   ]
  },
  {
   "cell_type": "markdown",
   "id": "ba5adaaf",
   "metadata": {},
   "source": [
    "Please note that some columns, namely the \"Car\" column was dropped later on in the script, meaning that it was removed from the physical object in the computers memory, as this is done by reference. NO COLUMNS WERE REMOVED FROM THE CSV/Excel document.\n",
    "\n",
    "This is why the info below does not contain the \"Car\" column."
   ]
  },
  {
   "cell_type": "code",
   "execution_count": 29,
   "id": "f1448233",
   "metadata": {},
   "outputs": [
    {
     "name": "stdout",
     "output_type": "stream",
     "text": [
      "<class 'pandas.core.frame.DataFrame'>\n",
      "RangeIndex: 398 entries, 0 to 397\n",
      "Data columns (total 10 columns):\n",
      " #   Column        Non-Null Count  Dtype  \n",
      "---  ------        --------------  -----  \n",
      " 0   mpg           398 non-null    float64\n",
      " 1   cylinders     398 non-null    int64  \n",
      " 2   displacement  398 non-null    float64\n",
      " 3   horsepower    398 non-null    object \n",
      " 4   weight        398 non-null    int64  \n",
      " 5   acceleration  398 non-null    float64\n",
      " 6   model         398 non-null    int64  \n",
      " 7   origin        398 non-null    int64  \n",
      " 8   car           398 non-null    object \n",
      " 9   id            398 non-null    int64  \n",
      "dtypes: float64(3), int64(5), object(2)\n",
      "memory usage: 31.2+ KB\n",
      "None\n"
     ]
    }
   ],
   "source": [
    "print(auto_data.info())"
   ]
  },
  {
   "cell_type": "markdown",
   "id": "c80bffae",
   "metadata": {},
   "source": [
    "#### For more tangible column seperation based on data type"
   ]
  },
  {
   "cell_type": "code",
   "execution_count": 30,
   "id": "5f65117c",
   "metadata": {},
   "outputs": [],
   "source": [
    "categorical_cols = []\n",
    "numerical_cols = []\n",
    "\n",
    "for column in auto_data.columns:\n",
    "    if isinstance(auto_data[column].values[0], str):\n",
    "        categorical_cols.append(column)\n",
    "    else:\n",
    "        numerical_cols.append(column) \n",
    "\n",
    "# Print those columns to check\n",
    "# print(categorical_cols)\n",
    "# print(numerical_cols)"
   ]
  },
  {
   "cell_type": "markdown",
   "id": "8945ff61",
   "metadata": {},
   "source": [
    "#### Look for missing values and replace them with column mean"
   ]
  },
  {
   "cell_type": "code",
   "execution_count": 31,
   "id": "908fbb9d",
   "metadata": {},
   "outputs": [],
   "source": [
    "auto_data.fillna(auto_data.mean().round(2), inplace=True)"
   ]
  },
  {
   "cell_type": "markdown",
   "id": "68db1594",
   "metadata": {},
   "source": [
    "#### Get Rid of all Duplicate Data"
   ]
  },
  {
   "cell_type": "code",
   "execution_count": 32,
   "id": "32e7b11f",
   "metadata": {},
   "outputs": [],
   "source": [
    "auto_data = auto_data.drop_duplicates()"
   ]
  },
  {
   "cell_type": "markdown",
   "id": "afefa644",
   "metadata": {},
   "source": [
    "#### Create the classifier column - mpg01"
   ]
  },
  {
   "cell_type": "code",
   "execution_count": 33,
   "id": "3407f770",
   "metadata": {},
   "outputs": [],
   "source": [
    "# calculate mean\n",
    "mpg_mean = auto_data[\"mpg\"].mean()\n",
    "\n",
    "# create classifier column\n",
    "auto_data[\"mpg01\"] = auto_data[\"mpg\"].apply(lambda x: 1 if x >= mpg_mean else 0)"
   ]
  },
  {
   "cell_type": "markdown",
   "id": "84f57865",
   "metadata": {},
   "source": [
    "#### Repair the \"Broken\" Horsepower Column"
   ]
  },
  {
   "cell_type": "code",
   "execution_count": 34,
   "id": "029e4d5f",
   "metadata": {},
   "outputs": [],
   "source": [
    "# Repair broken Horsepwer column => the ? throws a spanner into the works\n",
    "\n",
    "auto_data[\"horsepower\"].replace({'?': 0}, inplace=True)\n",
    "auto_data[\"horsepower\"] = auto_data[\"horsepower\"].apply(lambda x: int(x))\n",
    "auto_data[\"horsepower\"].replace({0: auto_data[\"horsepower\"].mean()}, inplace=True)"
   ]
  },
  {
   "cell_type": "markdown",
   "id": "6efc939a",
   "metadata": {},
   "source": [
    "#### Dropping first unwanted column"
   ]
  },
  {
   "cell_type": "code",
   "execution_count": 35,
   "id": "5c929273",
   "metadata": {},
   "outputs": [],
   "source": [
    "# Dropping unwanted column Cars as it will have no relationship with the mpg, there are alsmost as many car categories as there are records\n",
    "auto_data.drop('car', axis='columns', inplace=True)\n",
    "all_columns = auto_data.columns"
   ]
  },
  {
   "cell_type": "markdown",
   "id": "a0d3492b",
   "metadata": {},
   "source": [
    "# Functions "
   ]
  },
  {
   "cell_type": "markdown",
   "id": "1765c0c8",
   "metadata": {},
   "source": [
    "#### Function to generate box diagrams"
   ]
  },
  {
   "cell_type": "code",
   "execution_count": 36,
   "id": "e896fe74",
   "metadata": {},
   "outputs": [],
   "source": [
    "def generate_box(column):\n",
    "        \n",
    "        col_yes = auto_data[column][auto_data[\"mpg01\"] == 1]\n",
    "        col_no = auto_data[column][auto_data[\"mpg01\"] == 0]\n",
    "    \n",
    "        col_yes_arr = np.array(col_yes)\n",
    "        col_no_arr = np.array(col_no)\n",
    "        \n",
    "        data_1 = col_yes_arr\n",
    "        data_2 = col_no_arr\n",
    "\n",
    "        fig = plt.figure(figsize =(8, 10))\n",
    "\n",
    "        # Creating axes instance\n",
    "        ax = fig.add_axes([0, 0, 1, 1])\n",
    "\n",
    "        # Creating plot\n",
    "        bp = ax.boxplot([data_1, data_2], widths = 0.7)     \n",
    "\n",
    "        plt.title(f\"{column} vs mpg01\")\n",
    "        plt.xlabel(f\"Left: 1 & Right: 0\")\n",
    "        plt.ylabel(f\"{column} value\")\n",
    "\n",
    "        # show plot\n",
    "        plt.show()"
   ]
  },
  {
   "cell_type": "markdown",
   "id": "af0239a0",
   "metadata": {},
   "source": [
    "#### Function to Calculate Five - Point Summary => Min, Quartile 1, Median, Quartile 3, Max"
   ]
  },
  {
   "cell_type": "code",
   "execution_count": 37,
   "id": "4536772b",
   "metadata": {},
   "outputs": [],
   "source": [
    "def five_point_summary(column, opcode):   \n",
    "    \n",
    "        col = auto_data[column][auto_data[\"mpg01\"] == opcode]\n",
    "        col_arr = np.array(col)\n",
    "        \n",
    "        data_max = np.amax(col_arr)\n",
    "        data_min = np.amin(col_arr)\n",
    "        \n",
    "        data_q1 = np.percentile(col_arr, 25)\n",
    "        data_median = np.median(col_arr)\n",
    "        data_q3 = np.percentile(col_arr, 75)\n",
    "        \n",
    "        return data_min, data_q1, data_median, data_q3, data_max     "
   ]
  },
  {
   "cell_type": "markdown",
   "id": "970fdc44",
   "metadata": {},
   "source": [
    "#### Function to Print Stats of columns"
   ]
  },
  {
   "cell_type": "code",
   "execution_count": 38,
   "id": "74e23707",
   "metadata": {},
   "outputs": [],
   "source": [
    "def print_stats(column_to_test):\n",
    "    print(\"======================================================================================================================\")\n",
    "    print(f\"Five - Point Summary for {column_to_test} column => (Min, Quartile 1, Median, Quartile 3, Max)\")\n",
    "    print(f\"MPG = 1 (High-Milage Cars) => {five_point_summary(column_to_test, 1)}\")\n",
    "    print(f\"MPG = 0 (Low-Milage Cars) => {five_point_summary(column_to_test, 0)}\")\n",
    "    print(\"======================================================================================================================\")\n",
    "\n",
    "    generate_box(column_to_test)"
   ]
  },
  {
   "cell_type": "markdown",
   "id": "7cc772a3",
   "metadata": {},
   "source": [
    "# Testing Features using the above functions"
   ]
  },
  {
   "cell_type": "markdown",
   "id": "252c8902",
   "metadata": {},
   "source": [
    "#### To Test a Specific Feature"
   ]
  },
  {
   "cell_type": "code",
   "execution_count": 39,
   "id": "99a0ab65",
   "metadata": {},
   "outputs": [
    {
     "name": "stdout",
     "output_type": "stream",
     "text": [
      "======================================================================================================================\n",
      "Five - Point Summary for weight column => (Min, Quartile 1, Median, Quartile 3, Max)\n",
      "MPG = 1 (High-Milage Cars) => (1613, 2025.0, 2215.0, 2572.0, 3725)\n",
      "MPG = 0 (Low-Milage Cars) => (2124, 3035.0, 3525.0, 4135.0, 5140)\n",
      "======================================================================================================================\n"
     ]
    },
    {
     "data": {
      "image/png": "[encoded data removed]",
      "text/plain": [
       "<Figure size 576x720 with 1 Axes>"
      ]
     },
     "metadata": {
      "needs_background": "light"
     },
     "output_type": "display_data"
    }
   ],
   "source": [
    "print_stats(\"weight\")"
   ]
  },
  {
   "cell_type": "markdown",
   "id": "589feeee",
   "metadata": {},
   "source": [
    "#### Test and Compare all Features"
   ]
  },
  {
   "cell_type": "markdown",
   "id": "57132d43",
   "metadata": {},
   "source": [
    "The call to print_stats() in this cell was merely commented out to keep the function from flooding the PDF, can be uncommented and should work perfectly fine, as it makes use of the same function as the individual model above."
   ]
  },
  {
   "cell_type": "code",
   "execution_count": 40,
   "id": "580a4d30",
   "metadata": {
    "scrolled": true
   },
   "outputs": [],
   "source": [
    "# removing the bad columns\n",
    "all_columns = list(auto_data.columns)\n",
    "all_columns.remove(\"id\")\n",
    "all_columns.remove(\"mpg01\")\n",
    "all_columns.remove(\"mpg\")\n",
    "\n",
    "# for column in all_columns:\n",
    "#     print_stats(column)\n"
   ]
  },
  {
   "cell_type": "markdown",
   "id": "5db74c06",
   "metadata": {},
   "source": [
    "## Choose Feature, Feature Normalisation, Splitting Data => Training & Test Sets "
   ]
  },
  {
   "cell_type": "markdown",
   "id": "61a30c93",
   "metadata": {},
   "source": [
    "#### Choose our features based on analysis of each column above"
   ]
  },
  {
   "cell_type": "code",
   "execution_count": 41,
   "id": "d6687f9c",
   "metadata": {},
   "outputs": [],
   "source": [
    "# Note that the only column truly worth dropping here is the original MPG column, as it was converted into the classifier\n",
    "features = auto_data[[\"cylinders\", \"displacement\", \"horsepower\", \"weight\", \"acceleration\", \"model\", \"origin\"]]"
   ]
  },
  {
   "cell_type": "markdown",
   "id": "f60804e0",
   "metadata": {},
   "source": [
    "#### We also need to scale / normalise or features => as not all features are equally significant"
   ]
  },
  {
   "cell_type": "code",
   "execution_count": 42,
   "id": "26052fd8",
   "metadata": {},
   "outputs": [],
   "source": [
    "scaler = StandardScaler()\n",
    "x = scaler.fit_transform(features)"
   ]
  },
  {
   "cell_type": "markdown",
   "id": "339ef406",
   "metadata": {},
   "source": [
    "#### Setting the class labels"
   ]
  },
  {
   "cell_type": "code",
   "execution_count": 43,
   "id": "dfb048bc",
   "metadata": {},
   "outputs": [],
   "source": [
    "y = np.array(auto_data[\"mpg01\"])"
   ]
  },
  {
   "cell_type": "markdown",
   "id": "e257c65d",
   "metadata": {},
   "source": [
    "#### Finally Splitting the data and labels into Training & Testing Sets: 80% => Training; 20% => Testing"
   ]
  },
  {
   "cell_type": "markdown",
   "id": "4aad0df0",
   "metadata": {},
   "source": [
    "Scikit-Learn has a neat function with which to split data into training and test sets. Observe below, the train_test_split() function takes 2 specific parameters named 'train_size' and 'test_size', the former is set to 0.8 and the latter to 0.2. To explain this in brief terms, what this means is that a random 80% of the preprocessed dataset will be set aside to train the classification model, whereas the remaining 20% will be set aside for testing the model. One of the main keywords here is 'random'. Since the trainin data and test data will be split at random, this eliminates the element of bias that can be introduced if selected by hand. "
   ]
  },
  {
   "cell_type": "code",
   "execution_count": 44,
   "id": "e60cc3bc",
   "metadata": {},
   "outputs": [],
   "source": [
    "x_train, x_test, y_train, y_test = train_test_split(x, y, train_size = 0.8, test_size = 0.2)\n",
    "\n",
    "# x_train & y_train will be used to fit/train the model\n",
    "# x_test & y_test will be used to test/validdte the trained odel"
   ]
  },
  {
   "cell_type": "markdown",
   "id": "e0963654",
   "metadata": {},
   "source": [
    "#### Just print everything to check"
   ]
  },
  {
   "cell_type": "code",
   "execution_count": 45,
   "id": "f824173e",
   "metadata": {},
   "outputs": [],
   "source": [
    "# print(x_train)\n",
    "# print(y_train)\n",
    "# print(x_test)\n",
    "# print(y_test)"
   ]
  },
  {
   "cell_type": "markdown",
   "id": "f12ba972",
   "metadata": {},
   "source": [
    "# Step Further: Logistic Regression with the Data"
   ]
  },
  {
   "cell_type": "code",
   "execution_count": 46,
   "id": "4670d39f",
   "metadata": {},
   "outputs": [
    {
     "data": {
      "text/plain": [
       "LogisticRegression()"
      ]
     },
     "execution_count": 46,
     "metadata": {},
     "output_type": "execute_result"
    }
   ],
   "source": [
    "logger = LogisticRegression()\n",
    "logger.fit(x_train, y_train)"
   ]
  },
  {
   "cell_type": "code",
   "execution_count": 47,
   "id": "06a411ce",
   "metadata": {
    "scrolled": true
   },
   "outputs": [
    {
     "name": "stdout",
     "output_type": "stream",
     "text": [
      "('cylinders', -0.5988175916294037)\n",
      "('displacement', -0.8209498405395483)\n",
      "('horsepower', -1.3350655905469693)\n",
      "('weight', -1.9977303555997623)\n",
      "('acceleration', -0.4058724012352035)\n",
      "('model', 1.25207975175938)\n",
      "('origin', 0.2887978157522764)\n"
     ]
    }
   ],
   "source": [
    "# to find the Most Important feature => feature with the highest coefficient\n",
    "# print(feature_coefficients)\n",
    "\n",
    "# coefficient and intercept for the regression model\n",
    "feature_coefficients = logger.coef_\n",
    "intercept = logger.intercept_\n",
    "\n",
    "features_to_coefficients = list(zip(features, feature_coefficients[0]))\n",
    "for item in features_to_coefficients:\n",
    "    print(item)\n",
    "\n",
    "\n",
    "# From here we can see that weight has the highest coefficient => most important feature in predicting Miles per Gallon"
   ]
  },
  {
   "cell_type": "markdown",
   "id": "72229215",
   "metadata": {},
   "source": [
    "# Evaluate & Score Model"
   ]
  },
  {
   "cell_type": "markdown",
   "id": "4567aeef",
   "metadata": {},
   "source": [
    "#### Make a prediction using the test data"
   ]
  },
  {
   "cell_type": "code",
   "execution_count": 48,
   "id": "af7d4516",
   "metadata": {},
   "outputs": [],
   "source": [
    "y_pred = logger.predict(x_test)"
   ]
  },
  {
   "cell_type": "markdown",
   "id": "48ef0080",
   "metadata": {},
   "source": [
    "#### Evaluate: Compare predictions and true labels off the eye"
   ]
  },
  {
   "cell_type": "code",
   "execution_count": 49,
   "id": "ce3724af",
   "metadata": {},
   "outputs": [
    {
     "name": "stdout",
     "output_type": "stream",
     "text": [
      "Predicted y:\n",
      "[1 1 1 0 1 1 1 0 0 1 0 1 1 0 0 0 1 1 0 0 0 0 1 0 0 1 1 1 1 0 1 1 0 0 1 0 1\n",
      " 0 0 1 1 0 1 1 1 0 1 1 0 0 0 0 1 1 0 1 0 0 1 1 0 1 1 1 0 0 0 0 0 0 0 0 0 1\n",
      " 1 1 0 1 0 1]\n",
      "Test y:\n",
      "[1 1 1 0 1 1 1 0 0 1 0 1 1 0 0 0 1 1 0 0 0 0 1 0 0 1 1 0 1 1 1 1 0 0 1 0 1\n",
      " 0 0 1 0 0 1 0 1 0 1 1 0 0 0 0 1 1 0 1 0 0 1 1 0 1 1 1 0 0 0 0 0 0 0 1 0 1\n",
      " 1 1 0 1 0 1]\n"
     ]
    }
   ],
   "source": [
    "print(\"Predicted y:\")\n",
    "print(y_pred)\n",
    "print(\"Test y:\")\n",
    "print(y_test)"
   ]
  },
  {
   "cell_type": "markdown",
   "id": "7f88bfd5",
   "metadata": {},
   "source": [
    "#### Print out a Score Sheet to evaluate the LR Model and the Data"
   ]
  },
  {
   "cell_type": "code",
   "execution_count": 50,
   "id": "d55f4fd7",
   "metadata": {},
   "outputs": [
    {
     "name": "stdout",
     "output_type": "stream",
     "text": [
      "Score Sheet:\n",
      "Score Model on Data: 0.89\n",
      "Accuracy Score: 0.94\n",
      "Precision Score: 0.92\n",
      "Recall Score: 0.95\n",
      "F1 Score: 0.94\n"
     ]
    }
   ],
   "source": [
    "print(\"Score Sheet:\")\n",
    "print(f\"Score Model on Data: {round(logger.score(x_train, y_train), 2)}\")\n",
    "print(f\"Accuracy Score: {round(accuracy_score(y_test, y_pred), 2)}\")\n",
    "print(f\"Precision Score: {round(precision_score(y_test, y_pred), 2)}\")\n",
    "print(f\"Recall Score: {round(recall_score(y_test, y_pred), 2)}\")\n",
    "print(f\"F1 Score: {round(f1_score(y_test, y_pred), 2)}\")"
   ]
  },
  {
   "cell_type": "markdown",
   "id": "d2cdd30a",
   "metadata": {},
   "source": [
    "# END"
   ]
  }
 ],
 "metadata": {
  "kernelspec": {
   "display_name": "Python 3",
   "language": "python",
   "name": "python3"
  },
  "language_info": {
   "codemirror_mode": {
    "name": "ipython",
    "version": 3
   },
   "file_extension": ".py",
   "mimetype": "text/x-python",
   "name": "python",
   "nbconvert_exporter": "python",
   "pygments_lexer": "ipython3",
   "version": "3.8.8"
  }
 },
 "nbformat": 4,
 "nbformat_minor": 5
}
